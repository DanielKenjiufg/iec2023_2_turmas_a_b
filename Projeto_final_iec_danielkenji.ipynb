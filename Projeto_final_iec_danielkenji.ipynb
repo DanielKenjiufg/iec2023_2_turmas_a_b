{
  "nbformat": 4,
  "nbformat_minor": 0,
  "metadata": {
    "colab": {
      "provenance": [],
      "authorship_tag": "ABX9TyNI8yejMYu5bcxunCZ3awBW",
      "include_colab_link": true
    },
    "kernelspec": {
      "name": "python3",
      "display_name": "Python 3"
    },
    "language_info": {
      "name": "python"
    }
  },
  "cells": [
    {
      "cell_type": "markdown",
      "metadata": {
        "id": "view-in-github",
        "colab_type": "text"
      },
      "source": [
        "<a href=\"https://colab.research.google.com/github/DanielKenjiufg/iec2023_2_turmas_a_b/blob/main/Projeto_final_iec_danielkenji.ipynb\" target=\"_parent\"><img src=\"https://colab.research.google.com/assets/colab-badge.svg\" alt=\"Open In Colab\"/></a>"
      ]
    },
    {
      "cell_type": "code",
      "source": [
        "!pip install googletrans==4.0.0-rc1\n",
        "!pip install translate\n"
      ],
      "metadata": {
        "colab": {
          "base_uri": "https://localhost:8080/"
        },
        "id": "KpV1iQ9folzQ",
        "outputId": "e858c7ce-191d-473c-ce36-d933325cd000"
      },
      "execution_count": 22,
      "outputs": [
        {
          "output_type": "stream",
          "name": "stdout",
          "text": [
            "Requirement already satisfied: googletrans==4.0.0-rc1 in /usr/local/lib/python3.10/dist-packages (4.0.0rc1)\n",
            "Requirement already satisfied: httpx==0.13.3 in /usr/local/lib/python3.10/dist-packages (from googletrans==4.0.0-rc1) (0.13.3)\n",
            "Requirement already satisfied: certifi in /usr/local/lib/python3.10/dist-packages (from httpx==0.13.3->googletrans==4.0.0-rc1) (2023.11.17)\n",
            "Requirement already satisfied: hstspreload in /usr/local/lib/python3.10/dist-packages (from httpx==0.13.3->googletrans==4.0.0-rc1) (2024.1.5)\n",
            "Requirement already satisfied: sniffio in /usr/local/lib/python3.10/dist-packages (from httpx==0.13.3->googletrans==4.0.0-rc1) (1.3.0)\n",
            "Requirement already satisfied: chardet==3.* in /usr/local/lib/python3.10/dist-packages (from httpx==0.13.3->googletrans==4.0.0-rc1) (3.0.4)\n",
            "Requirement already satisfied: idna==2.* in /usr/local/lib/python3.10/dist-packages (from httpx==0.13.3->googletrans==4.0.0-rc1) (2.10)\n",
            "Requirement already satisfied: rfc3986<2,>=1.3 in /usr/local/lib/python3.10/dist-packages (from httpx==0.13.3->googletrans==4.0.0-rc1) (1.5.0)\n",
            "Requirement already satisfied: httpcore==0.9.* in /usr/local/lib/python3.10/dist-packages (from httpx==0.13.3->googletrans==4.0.0-rc1) (0.9.1)\n",
            "Requirement already satisfied: h11<0.10,>=0.8 in /usr/local/lib/python3.10/dist-packages (from httpcore==0.9.*->httpx==0.13.3->googletrans==4.0.0-rc1) (0.9.0)\n",
            "Requirement already satisfied: h2==3.* in /usr/local/lib/python3.10/dist-packages (from httpcore==0.9.*->httpx==0.13.3->googletrans==4.0.0-rc1) (3.2.0)\n",
            "Requirement already satisfied: hyperframe<6,>=5.2.0 in /usr/local/lib/python3.10/dist-packages (from h2==3.*->httpcore==0.9.*->httpx==0.13.3->googletrans==4.0.0-rc1) (5.2.0)\n",
            "Requirement already satisfied: hpack<4,>=3.0 in /usr/local/lib/python3.10/dist-packages (from h2==3.*->httpcore==0.9.*->httpx==0.13.3->googletrans==4.0.0-rc1) (3.0.0)\n",
            "Collecting translate\n",
            "  Downloading translate-3.6.1-py2.py3-none-any.whl (12 kB)\n",
            "Requirement already satisfied: click in /usr/local/lib/python3.10/dist-packages (from translate) (8.1.7)\n",
            "Requirement already satisfied: lxml in /usr/local/lib/python3.10/dist-packages (from translate) (4.9.4)\n",
            "Requirement already satisfied: requests in /usr/local/lib/python3.10/dist-packages (from translate) (2.31.0)\n",
            "Collecting libretranslatepy==2.1.1 (from translate)\n",
            "  Downloading libretranslatepy-2.1.1-py3-none-any.whl (3.2 kB)\n",
            "Requirement already satisfied: charset-normalizer<4,>=2 in /usr/local/lib/python3.10/dist-packages (from requests->translate) (3.3.2)\n",
            "Requirement already satisfied: idna<4,>=2.5 in /usr/local/lib/python3.10/dist-packages (from requests->translate) (2.10)\n",
            "Requirement already satisfied: urllib3<3,>=1.21.1 in /usr/local/lib/python3.10/dist-packages (from requests->translate) (2.0.7)\n",
            "Requirement already satisfied: certifi>=2017.4.17 in /usr/local/lib/python3.10/dist-packages (from requests->translate) (2023.11.17)\n",
            "Installing collected packages: libretranslatepy, translate\n",
            "Successfully installed libretranslatepy-2.1.1 translate-3.6.1\n"
          ]
        }
      ]
    },
    {
      "cell_type": "code",
      "source": [
        "import requests\n",
        "from translate import Translator\n",
        "from IPython.display import Image, display\n",
        "\n",
        "api_key = '722e9aa94e77a52a16199542870588e8'\n",
        "base_url = 'https://api.themoviedb.org/3'\n",
        "\n",
        "def get_movie_genres():\n",
        "    url = f'{base_url}/genre/movie/list'\n",
        "    params = {'api_key': api_key}\n",
        "\n",
        "    response = requests.get(url, params=params)\n",
        "    data = response.json()\n",
        "\n",
        "    genres = data['genres']\n",
        "    return genres\n",
        "\n",
        "def search_movies_by_category(category, language='en', num_movies=5):\n",
        "    url = f'{base_url}/discover/movie'\n",
        "    params = {\n",
        "        'api_key': api_key,\n",
        "        'sort_by': 'popularity.desc',  # Alteração para ordenar por popularidade\n",
        "        'with_genres': category,\n",
        "        'page': 1,  # Garante apenas a primeira página de resultados\n",
        "        'language': language\n",
        "    }\n",
        "\n",
        "    response = requests.get(url, params=params)\n",
        "    data = response.json()\n",
        "\n",
        "    movies_info = []\n",
        "\n",
        "    for movie in data['results'][:num_movies]:\n",
        "        movie_info = {\n",
        "            'title': movie['title'],\n",
        "            'overview': translate_text(movie['overview'], language),\n",
        "            'poster_path': movie['poster_path'],\n",
        "            'release_date': movie['release_date'],\n",
        "            'cast': get_movie_cast(movie['id']),\n",
        "            'popularity': movie['popularity']\n",
        "        }\n",
        "        movies_info.append(movie_info)\n",
        "\n",
        "    return movies_info\n",
        "\n",
        "def get_movie_cast(movie_id):\n",
        "    url = f'{base_url}/movie/{movie_id}/credits'\n",
        "    params = {'api_key': api_key}\n",
        "\n",
        "    response = requests.get(url, params=params)\n",
        "    data = response.json()\n",
        "\n",
        "    cast = [actor['name'] for actor in data['cast'][:5]]  # Pegue os cinco primeiros membros do elenco\n",
        "    return cast\n",
        "\n",
        "def translate_text(text, target_language):\n",
        "    translator = Translator(to_lang=target_language)\n",
        "    translation = translator.translate(text)\n",
        "    return translation\n",
        "\n",
        "def display_movie_info(movie_info):\n",
        "    print(f'Título: {movie_info[\"title\"]}')\n",
        "    print(f'Resumo: {movie_info[\"overview\"]}')\n",
        "    print(f'Data de Lançamento: {movie_info[\"release_date\"]}')\n",
        "    print(f'Popularidade: {movie_info[\"popularity\"]}')\n",
        "    print(f'Elenco: {\", \".join(movie_info[\"cast\"])}')\n",
        "\n",
        "    # Exibindo o cartaz do filme\n",
        "    poster_url = f'https://image.tmdb.org/t/p/w500/{movie_info[\"poster_path\"]}'\n",
        "    display(Image(url=poster_url))\n",
        "\n",
        "# Listar IDs e nomes de categorias\n",
        "genres = get_movie_genres()\n",
        "\n",
        "for genre in genres:\n",
        "    print(f'ID: {genre[\"id\"]}, Nome: {genre[\"name\"]}')"
      ],
      "metadata": {
        "colab": {
          "base_uri": "https://localhost:8080/"
        },
        "id": "almfi8T0pJyi",
        "outputId": "a81388d6-b454-40c7-d78d-969ffb1c5f92"
      },
      "execution_count": 31,
      "outputs": [
        {
          "output_type": "stream",
          "name": "stdout",
          "text": [
            "ID: 28, Nome: Action\n",
            "ID: 12, Nome: Adventure\n",
            "ID: 16, Nome: Animation\n",
            "ID: 35, Nome: Comedy\n",
            "ID: 80, Nome: Crime\n",
            "ID: 99, Nome: Documentary\n",
            "ID: 18, Nome: Drama\n",
            "ID: 10751, Nome: Family\n",
            "ID: 14, Nome: Fantasy\n",
            "ID: 36, Nome: History\n",
            "ID: 27, Nome: Horror\n",
            "ID: 10402, Nome: Music\n",
            "ID: 9648, Nome: Mystery\n",
            "ID: 10749, Nome: Romance\n",
            "ID: 878, Nome: Science Fiction\n",
            "ID: 10770, Nome: TV Movie\n",
            "ID: 53, Nome: Thriller\n",
            "ID: 10752, Nome: War\n",
            "ID: 37, Nome: Western\n"
          ]
        }
      ]
    },
    {
      "cell_type": "code",
      "source": [
        "# Escolha uma categoria (substitua o ID abaixo pelo desejado)\n",
        "category_id = 28  # Exemplo: Ação\n",
        "language = 'pt'  # Código de idioma para português\n",
        "num_movies = 5  # Limite de sugestões de filmes\n",
        "movies_info = search_movies_by_category(category_id, language, num_movies)\n",
        "\n",
        "for movie_info in movies_info:\n",
        "    display_movie_info(movie_info)\n",
        "    print('\\n' + '-'*50 + '\\n')  # Adicione uma linha divisória entre os filmes"
      ],
      "metadata": {
        "colab": {
          "base_uri": "https://localhost:8080/",
          "height": 1000
        },
        "id": "6keW8uLGpNX0",
        "outputId": "90bb2b07-bd82-47eb-b457-8ee64267a005"
      },
      "execution_count": 32,
      "outputs": [
        {
          "output_type": "stream",
          "name": "stdout",
          "text": [
            "Título: As Marvels\n",
            "Resumo: Enviada para uma fenda espacial anómala ligada a um Kree, os poderes de Carol Danvers, a Capitã Marvel, misturam-se com os da superfã de Jersey City, Kamala Khan, conhecida como Sra. Marvel, e a sobrinha de Carol, agora S.A.B.E.R. astronauta Monica Rambeau. Juntas, unem esforços e aprendem a trabalhar para salvar o universo como “As Marvel”.\n",
            "Data de Lançamento: 2023-11-08\n",
            "Popularidade: 2186.428\n",
            "Elenco: Brie Larson, Teyonah Parris, Iman Vellani, Zawe Ashton, Samuel L. Jackson\n"
          ]
        },
        {
          "output_type": "display_data",
          "data": {
            "text/html": [
              "<img src=\"https://image.tmdb.org/t/p/w500//gmtrDKIKXRFkChgHGALZTiKDVo0.jpg\"/>"
            ],
            "text/plain": [
              "<IPython.core.display.Image object>"
            ]
          },
          "metadata": {}
        },
        {
          "output_type": "stream",
          "name": "stdout",
          "text": [
            "\n",
            "--------------------------------------------------\n",
            "\n",
            "Título: Lift: Roubo Nas Alturas\n",
            "Resumo: Um mestre ladrão é persuadido a participar num roubo aparentemente impossível pelo FBI e pela sua ex-namorada. Mas para complicar um pouco as coisas, o roubo de 500 milhões de dólares ocorre a bordo de um voo com 777 passageiros e a 12 mil metros de altura, que viaja de Londres para Zurique.\n",
            "Data de Lançamento: 2024-01-10\n",
            "Popularidade: 2296.095\n",
            "Elenco: Kevin Hart, Gugu Mbatha-Raw, Sam Worthington, Vincent D'Onofrio, Úrsula Corberó\n"
          ]
        },
        {
          "output_type": "display_data",
          "data": {
            "text/html": [
              "<img src=\"https://image.tmdb.org/t/p/w500//ca74jjIYRVDdsnlWk8JzyVY49dE.jpg\"/>"
            ],
            "text/plain": [
              "<IPython.core.display.Image object>"
            ]
          },
          "metadata": {}
        },
        {
          "output_type": "stream",
          "name": "stdout",
          "text": [
            "\n",
            "--------------------------------------------------\n",
            "\n",
            "Título: Aquaman e o Reino Perdido\n",
            "Resumo: QUERY LENGTH LIMIT EXCEEDED. MAX ALLOWED QUERY : 500 CHARS\n",
            "Data de Lançamento: 2023-12-20\n",
            "Popularidade: 1371.467\n",
            "Elenco: Jason Momoa, Patrick Wilson, Yahya Abdul-Mateen II, Randall Park, Amber Heard\n"
          ]
        },
        {
          "output_type": "display_data",
          "data": {
            "text/html": [
              "<img src=\"https://image.tmdb.org/t/p/w500//84ispMxgLDRvQaA6zlM9i7sdAAI.jpg\"/>"
            ],
            "text/plain": [
              "<IPython.core.display.Image object>"
            ]
          },
          "metadata": {}
        },
        {
          "output_type": "stream",
          "name": "stdout",
          "text": [
            "\n",
            "--------------------------------------------------\n",
            "\n",
            "Título: Deep Fear\n",
            "Resumo: Uma viagem solo a bordo de um iate toma um rumo assustador quando uma mulher encontra três traficantes de drogas agarrados aos restos de um barco. Eles logo a forçam a mergulhar em águas infestadas de tubarões para recuperar quilos de cocaína dos destroços afundados.\n",
            "Data de Lançamento: 2023-10-18\n",
            "Popularidade: 880.983\n",
            "Elenco: Mãdãlina Ghenea, Ed Westwick, Macarena Gómez, Stany Coppet, Ibrahima Gueye\n"
          ]
        },
        {
          "output_type": "display_data",
          "data": {
            "text/html": [
              "<img src=\"https://image.tmdb.org/t/p/w500//1ZZFTMqbQaP59yGTqKOcfqVE7NC.jpg\"/>"
            ],
            "text/plain": [
              "<IPython.core.display.Image object>"
            ]
          },
          "metadata": {}
        },
        {
          "output_type": "stream",
          "name": "stdout",
          "text": [
            "\n",
            "--------------------------------------------------\n",
            "\n",
            "Título: Justice League: Crisis on Infinite Earths Part One\n",
            "Resumo: \n",
            "Data de Lançamento: 2024-01-09\n",
            "Popularidade: 749.727\n",
            "Elenco: Matt Bomer, Jensen Ackles, Darren Criss, Meg Donnelly, Stana Katic\n"
          ]
        },
        {
          "output_type": "display_data",
          "data": {
            "text/html": [
              "<img src=\"https://image.tmdb.org/t/p/w500//vsiDOIO4APrPQQ4xx8vJW8N0uHV.jpg\"/>"
            ],
            "text/plain": [
              "<IPython.core.display.Image object>"
            ]
          },
          "metadata": {}
        },
        {
          "output_type": "stream",
          "name": "stdout",
          "text": [
            "\n",
            "--------------------------------------------------\n",
            "\n"
          ]
        }
      ]
    }
  ]
}